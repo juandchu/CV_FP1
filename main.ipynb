{
 "cells": [
  {
   "cell_type": "code",
   "execution_count": 1,
   "metadata": {},
   "outputs": [],
   "source": [
    "import warnings\n",
    "\n",
    "warnings.filterwarnings(\"ignore\", message=\".*Failed to load image Python extension.*\")\n",
    "\n",
    "from mlp import MLP\n",
    "from functions import *\n",
    "\n",
    "train_dataset, test_dataset = load_mnist()  # Load the MNIST dataset\n",
    "img, label = train_dataset[0]  # Get the first image and its label"
   ]
  },
  {
   "cell_type": "code",
   "execution_count": 2,
   "metadata": {},
   "outputs": [
    {
     "name": "stdout",
     "output_type": "stream",
     "text": [
      "0.1999603125860326\n"
     ]
    }
   ],
   "source": [
    "# Process the image \n",
    "test_img = process_image(img)\n",
    "test_label = one_hot_encoder(label)\n",
    "# Create the MLP\n",
    "mlp = MLP(activation_function=\"relu\")\n",
    "# Perform a forward pass\n",
    "output=mlp.forward(test_img)\n",
    "loss = mean_squared_error(output, test_label)\n",
    "\n",
    "# print(\"Output:\", output.shape)\n",
    "# print(\"label:\", test_label.shape)\n",
    "print(loss)"
   ]
  },
  {
   "cell_type": "code",
   "execution_count": null,
   "metadata": {},
   "outputs": [],
   "source": []
  }
 ],
 "metadata": {
  "kernelspec": {
   "display_name": "computer_vision",
   "language": "python",
   "name": "python3"
  },
  "language_info": {
   "codemirror_mode": {
    "name": "ipython",
    "version": 3
   },
   "file_extension": ".py",
   "mimetype": "text/x-python",
   "name": "python",
   "nbconvert_exporter": "python",
   "pygments_lexer": "ipython3",
   "version": "3.8.20"
  }
 },
 "nbformat": 4,
 "nbformat_minor": 2
}
