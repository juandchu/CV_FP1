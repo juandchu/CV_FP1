{
 "cells": [
  {
   "cell_type": "code",
   "execution_count": 1,
   "metadata": {},
   "outputs": [
    {
     "name": "stderr",
     "output_type": "stream",
     "text": [
      "/opt/anaconda3/envs/computer_vision/lib/python3.8/site-packages/torchvision/io/image.py:14: UserWarning: Failed to load image Python extension: 'dlopen(/opt/anaconda3/envs/computer_vision/lib/python3.8/site-packages/torchvision/image.so, 0x0006): Library not loaded: @rpath/libjpeg.9.dylib\n",
      "  Referenced from: <CAF361F5-1CAC-3EBE-9FC4-4B823D275CAA> /opt/anaconda3/envs/computer_vision/lib/python3.8/site-packages/torchvision/image.so\n",
      "  Reason: tried: '/opt/anaconda3/envs/computer_vision/lib/python3.8/site-packages/torchvision/../../../libjpeg.9.dylib' (no such file), '/opt/anaconda3/envs/computer_vision/lib/python3.8/site-packages/torchvision/../../../libjpeg.9.dylib' (no such file), '/opt/anaconda3/envs/computer_vision/lib/python3.8/lib-dynload/../../libjpeg.9.dylib' (no such file), '/opt/anaconda3/envs/computer_vision/bin/../lib/libjpeg.9.dylib' (no such file)'If you don't plan on using image functionality from `torchvision.io`, you can ignore this warning. Otherwise, there might be something wrong with your environment. Did you have `libjpeg` or `libpng` installed before building `torchvision` from source?\n",
      "  warn(\n"
     ]
    },
    {
     "name": "stdout",
     "output_type": "stream",
     "text": [
      "Epoch 1/10, Loss: 2.3013574998823483\n",
      "Epoch 2/10, Loss: 2.0459628969232075\n",
      "Epoch 3/10, Loss: 1.0098361211759272\n",
      "Epoch 4/10, Loss: 0.4786184357504235\n",
      "Epoch 5/10, Loss: 0.3674801770022605\n",
      "Epoch 6/10, Loss: 0.31567782864757327\n",
      "Epoch 7/10, Loss: 0.27142595363652916\n",
      "Epoch 8/10, Loss: 0.2535417847731933\n",
      "Epoch 9/10, Loss: 0.23150305866575643\n",
      "Epoch 10/10, Loss: 0.22076060730309235\n"
     ]
    }
   ],
   "source": [
    "import numpy as np\n",
    "from functions import *\n",
    "from torch.utils.data import DataLoader\n",
    "from torchvision import datasets, transforms\n",
    "from mlp import MLP\n",
    "\n",
    "# Hyperparameters\n",
    "batch_size = 250  # Batch size for mini-batch gradient descent\n",
    "learning_rate = 0.1  # Learning rate for weight updates\n",
    "epochs = 10  # Number of epochs to train\n",
    "input_size = 784  # Input size (28x28 flattened images)\n",
    "output_size = 10  # Number of output neurons (10 classes for MNIST)\n",
    "\n",
    "# Load MNIST dataset and apply transformations (convert to tensor, normalize)\n",
    "transform = transforms.Compose([\n",
    "    transforms.ToTensor(),  # Convert PIL image to tensor\n",
    "    transforms.Normalize((0.5,), (0.5,))  # Optional: normalize the data\n",
    "])\n",
    "\n",
    "train_dataset = datasets.MNIST(\n",
    "    root='./data', \n",
    "    train=True, \n",
    "    transform=transform, \n",
    "    download=True\n",
    ")\n",
    "\n",
    "train_loader = DataLoader(train_dataset, batch_size=batch_size, shuffle=True)\n",
    "\n",
    "# Initialize MLP model\n",
    "mlp = MLP(learning_rate=learning_rate)\n",
    "j=0\n",
    "# Training loop\n",
    "for epoch in range(epochs):\n",
    "    total_loss = 0  # Variable to store total loss for the epoch\n",
    "    \n",
    "    for batch_idx, (batch_images, batch_labels) in enumerate(train_loader):\n",
    "        batch_images = batch_images.view(batch_size, -1)  # Flatten images to 1D vector (28x28 = 784)\n",
    "        batch_labels = np.eye(output_size)[batch_labels]  # One-hot encode the labels\n",
    "\n",
    "        # Perform forward pass: Get model predictions\n",
    "        predictions = mlp.forward(batch_images.numpy())\n",
    "\n",
    "        # Compute loss (Mean Squared Error)\n",
    "        loss = cross_entropy_loss(batch_labels, predictions)\n",
    "        total_loss += loss\n",
    "        \n",
    "        # Perform backpropagation\n",
    "        gradients_w, gradients_b = mlp.back_propagation(batch_images.numpy(), batch_labels)\n",
    "\n",
    "        # Update weights and biases\n",
    "        mlp.update_weights(gradients_w, gradients_b)\n",
    "\n",
    "    # Print loss after every epoch\n",
    "    print(f\"Epoch {epoch + 1}/{epochs}, Loss: {total_loss / len(train_loader)}\")\n",
    "\n",
    "# After training is complete, you can save the model or evaluate it on the test set."
   ]
  },
  {
   "cell_type": "code",
   "execution_count": null,
   "metadata": {},
   "outputs": [],
   "source": []
  }
 ],
 "metadata": {
  "kernelspec": {
   "display_name": "computer_vision",
   "language": "python",
   "name": "python3"
  },
  "language_info": {
   "codemirror_mode": {
    "name": "ipython",
    "version": 3
   },
   "file_extension": ".py",
   "mimetype": "text/x-python",
   "name": "python",
   "nbconvert_exporter": "python",
   "pygments_lexer": "ipython3",
   "version": "3.8.20"
  }
 },
 "nbformat": 4,
 "nbformat_minor": 2
}
