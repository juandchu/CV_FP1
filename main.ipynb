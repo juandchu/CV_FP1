{
 "cells": [
  {
   "cell_type": "code",
   "execution_count": 1,
   "metadata": {},
   "outputs": [
    {
     "name": "stderr",
     "output_type": "stream",
     "text": [
      "/opt/anaconda3/envs/computer_vision/lib/python3.8/site-packages/torchvision/io/image.py:14: UserWarning: Failed to load image Python extension: 'dlopen(/opt/anaconda3/envs/computer_vision/lib/python3.8/site-packages/torchvision/image.so, 0x0006): Library not loaded: @rpath/libjpeg.9.dylib\n",
      "  Referenced from: <CAF361F5-1CAC-3EBE-9FC4-4B823D275CAA> /opt/anaconda3/envs/computer_vision/lib/python3.8/site-packages/torchvision/image.so\n",
      "  Reason: tried: '/opt/anaconda3/envs/computer_vision/lib/python3.8/site-packages/torchvision/../../../libjpeg.9.dylib' (no such file), '/opt/anaconda3/envs/computer_vision/lib/python3.8/site-packages/torchvision/../../../libjpeg.9.dylib' (no such file), '/opt/anaconda3/envs/computer_vision/lib/python3.8/lib-dynload/../../libjpeg.9.dylib' (no such file), '/opt/anaconda3/envs/computer_vision/bin/../lib/libjpeg.9.dylib' (no such file)'If you don't plan on using image functionality from `torchvision.io`, you can ignore this warning. Otherwise, there might be something wrong with your environment. Did you have `libjpeg` or `libpng` installed before building `torchvision` from source?\n",
      "  warn(\n"
     ]
    },
    {
     "name": "stdout",
     "output_type": "stream",
     "text": [
      "Epoch 0, Loss: 0.592027321664452\n",
      "Epoch 1, Loss: 0.23045554175365543\n",
      "Epoch 2, Loss: 0.17382452038005922\n",
      "Epoch 3, Loss: 0.14388114939336485\n",
      "Epoch 4, Loss: 0.12153305353504107\n",
      "Epoch 5, Loss: 0.10651734271655361\n",
      "Epoch 6, Loss: 0.09397998687348007\n",
      "Epoch 7, Loss: 0.08520372937660796\n",
      "Epoch 8, Loss: 0.07839219111943552\n",
      "Epoch 9, Loss: 0.06990297128337643\n",
      "Epoch 10, Loss: 0.06453988895988531\n",
      "Epoch 11, Loss: 0.059368742743616046\n",
      "Epoch 12, Loss: 0.05397135360927654\n",
      "Epoch 13, Loss: 0.04987584865003167\n",
      "Epoch 14, Loss: 0.04587348968142251\n",
      "Epoch 15, Loss: 0.04265781732491602\n",
      "Epoch 16, Loss: 0.03891180033058818\n",
      "Epoch 17, Loss: 0.03558025345217852\n",
      "Epoch 18, Loss: 0.03430273517523461\n",
      "Epoch 19, Loss: 0.031162251343123462\n",
      "Model saved successfully in 'models_self_implementation/mlp_model.pkl'\n"
     ]
    }
   ],
   "source": [
    "import os\n",
    "import numpy as np\n",
    "from functions import *\n",
    "from mlp import MLP\n",
    "import pickle\n",
    "\n",
    "#boolean parameter to decide if i want to save the model weights and biases to a pickle file\n",
    "save_model=True\n",
    "\n",
    "# Hyperparameters\n",
    "batch_size = 200  # Batch size for mini-batch gradient descent\n",
    "learning_rate = 0.1  # Learning rate for weight updates\n",
    "epochs = 20  # Number of epochs to train\n",
    "input_size = 784  # Input size (28x28 flattened images)\n",
    "output_size = 10  # Number of output neurons (10 classes for MNIST)\n",
    "hidden_layer_sizes = [128, 128]  # Number of neurons in hidden\n",
    "\n",
    "# array to store train loss per epoch\n",
    "train_losses = []\n",
    "\n",
    "train_loader, test_loader = load_mnist(batch_size=batch_size)\n",
    "\n",
    "# Initialize MLP model\n",
    "mlp = MLP(learning_rate=learning_rate,input_size=input_size,output_size=output_size, hidden_layer_sizes=hidden_layer_sizes, activation_function='relu')\n",
    "\n",
    "# Training loop\n",
    "for epoch in range(epochs): #Iterate per epoch\n",
    "    total_loss = 0  # Variable to store total loss for the epoch\n",
    "\n",
    "    #iterate per batch\n",
    "    for _, (batch_images, batch_labels) in enumerate(train_loader):\n",
    "        batch_images = batch_images.view(batch_images.size(0), -1) # Flatten images to 1D vector (28x28 = 784)  \n",
    "        batch_labels = np.eye(output_size)[batch_labels]  # One-hot encode the labels\n",
    "\n",
    "        # Perform forward pass: Get model predictions\n",
    "        predictions = mlp.forward(batch_images.numpy())\n",
    "\n",
    "        # Compute loss (Mean Squared Error)\n",
    "        loss = cross_entropy_loss(batch_labels, predictions)\n",
    "        total_loss += loss\n",
    "\n",
    "        # Compute accuracy for the batch\n",
    "        preds = np.argmax(predictions, axis=1)\n",
    "        \n",
    "        # Perform backpropagation\n",
    "        gradients_w, gradients_b = mlp.back_propagation(batch_images.numpy(), batch_labels)\n",
    "\n",
    "        # Update weights and biases\n",
    "        mlp.update_weights(gradients_w, gradients_b)\n",
    "    # Compute average training loss and accuracy for the epoch\n",
    "    avg_train_loss = total_loss / len(train_loader)\n",
    "    train_losses.append(avg_train_loss)\n",
    "\n",
    "    # Print loss after every epoch\n",
    "    print(f\"Epoch {epoch}, Loss: {avg_train_loss}\")\n",
    "\n",
    "#save the model weights and biases to a pickle file\n",
    "if(save_model): \n",
    "    #define the model parameters to be saved\n",
    "    model_parameters = {\n",
    "    \"weights\": mlp.weights,\n",
    "    \"biases\": mlp.biases,\n",
    "    \"input_size\": mlp.input_size,\n",
    "    \"hidden_layer_sizes\": mlp.hidden_layer_sizes,\n",
    "    \"output_size\": mlp.output_size,\n",
    "    \"learning_rate\": mlp.learning_rate\n",
    "    }\n",
    "\n",
    "# Define the directory where the model will be saved\n",
    "    save_dir = \"models_self_implementation\"\n",
    "    \n",
    "    # Create the directory if it doesn't exist\n",
    "    os.makedirs(save_dir, exist_ok=True)\n",
    "    \n",
    "    # Define the full path for the pickle file\n",
    "    save_path = os.path.join(save_dir, \"mlp_model.pkl\")\n",
    "    \n",
    "    # Save the model parameters using pickle\n",
    "    with open(save_path, \"wb\") as f:\n",
    "        pickle.dump(model_parameters, f) \n",
    "    \n",
    "    print(f\"Model saved successfully in '{save_path}'\")"
   ]
  },
  {
   "cell_type": "code",
   "execution_count": 4,
   "metadata": {},
   "outputs": [
    {
     "name": "stdout",
     "output_type": "stream",
     "text": [
      "50\n",
      " Accuracy: 97.57 %\n"
     ]
    }
   ],
   "source": [
    "TRAIN=train_loader\n",
    "TEST=test_loader\n",
    "\n",
    "# Load Model\n",
    "save_dir = \"models_self_implementation\"\n",
    "model_filename = \"mlp_model.pkl\"\n",
    "save_path = os.path.join(save_dir, model_filename)\n",
    "if os.path.exists(save_path):\n",
    "    with open(save_path, \"rb\") as f:\n",
    "        model_parameters = pickle.load(f)\n",
    "\n",
    "# recreate mlp \n",
    "mlp_imp = MLP(\n",
    "    input_size=model_parameters[\"input_size\"],\n",
    "    hidden_layer_sizes=model_parameters[\"hidden_layer_sizes\"],\n",
    "    output_size=model_parameters[\"output_size\"],\n",
    "    learning_rate=model_parameters[\"learning_rate\"]\n",
    ")\n",
    "\n",
    "# Assign saved weights and biases\n",
    "mlp_imp.weights = model_parameters[\"weights\"]\n",
    "mlp_imp.biases = model_parameters[\"biases\"]\n",
    "\n",
    "# Evaluate model\n",
    "all_accuracies = []\n",
    "counter=0\n",
    "for batch_images, batch_labels in TEST:\n",
    "    counter+=1\n",
    "    batch_images = batch_images.view(batch_images.shape[0], -1).numpy()\n",
    "    batch_labels = batch_labels.numpy()\n",
    "    acc = mlp_imp.evaluate(batch_images, batch_labels)\n",
    "    all_accuracies.append(acc)\n",
    "print(counter)\n",
    "final_accuracy = np.mean(all_accuracies)\n",
    "print(\" Accuracy:\", round(final_accuracy*100,2), \"%\")"
   ]
  },
  {
   "cell_type": "code",
   "execution_count": 3,
   "metadata": {},
   "outputs": [
    {
     "name": "stdout",
     "output_type": "stream",
     "text": [
      "118282\n"
     ]
    }
   ],
   "source": [
    "parameters=mlp_imp.calculate_parameters()\n",
    "print(parameters)"
   ]
  }
 ],
 "metadata": {
  "kernelspec": {
   "display_name": "computer_vision",
   "language": "python",
   "name": "python3"
  },
  "language_info": {
   "codemirror_mode": {
    "name": "ipython",
    "version": 3
   },
   "file_extension": ".py",
   "mimetype": "text/x-python",
   "name": "python",
   "nbconvert_exporter": "python",
   "pygments_lexer": "ipython3",
   "version": "3.8.20"
  }
 },
 "nbformat": 4,
 "nbformat_minor": 2
}
