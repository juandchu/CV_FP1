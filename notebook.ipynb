{
 "cells": [
  {
   "cell_type": "markdown",
   "metadata": {},
   "source": [
    "Generate Imports\n"
   ]
  },
  {
   "cell_type": "code",
   "execution_count": 10,
   "metadata": {},
   "outputs": [],
   "source": [
    "from torchvision import datasets\n",
    "import numpy as np \n",
    "import pandas as pd\n",
    "import warnings"
   ]
  },
  {
   "cell_type": "markdown",
   "metadata": {},
   "source": [
    "Download MNIST"
   ]
  },
  {
   "cell_type": "code",
   "execution_count": 7,
   "metadata": {},
   "outputs": [
    {
     "name": "stdout",
     "output_type": "stream",
     "text": [
      "Training data size: 60000\n",
      "Test data size: 10000\n"
     ]
    }
   ],
   "source": [
    "# Suppress warnings from torchvision\n",
    "warnings.filterwarnings(\"ignore\", category=UserWarning, module=\"torchvision\")\n",
    "\n",
    "# Download and load the MNIST training dataset\n",
    "train_dataset = datasets.MNIST(\n",
    "    root=\"./data\",  \n",
    "    train=True,  \n",
    "    transform=None,  \n",
    "    download=True  \n",
    ")\n",
    "\n",
    "# Similarly, load the test dataset\n",
    "test_dataset = datasets.MNIST(\n",
    "    root=\"./data\",\n",
    "    train=False,  # Load test data\n",
    "    transform=None,\n",
    "    download=True\n",
    ")\n",
    "\n",
    "print(f\"Training data size: {len(train_dataset)}\")\n",
    "print(f\"Test data size: {len(test_dataset)}\")"
   ]
  },
  {
   "cell_type": "markdown",
   "metadata": {},
   "source": [
    "Initialize the structure with random weight\n"
   ]
  },
  {
   "cell_type": "code",
   "execution_count": null,
   "metadata": {},
   "outputs": [],
   "source": [
    "def initialize():\n",
    "    #Define dimensions of each layer \n",
    "    input_size = 784 # 28x28 neurons in input layer\n",
    "    hidden_size=16 #16 neurons in hidden layer\n",
    "    output_size=10 #10 neurons in output layer (numbers 1-10)\n",
    "\n",
    "    # Input to Hidden Layer 1\n",
    "    W1 = np.random.randn(input_size, hidden_size) * 0.01  # Small random weights\n",
    "    b1 = np.zeros((1, hidden_size))  # Bias for hidden layer 1\n",
    "\n",
    "    # Hidden Layer 1 to Hidden Layer 2\n",
    "    W2 = np.random.randn(hidden_size, hidden_size) * 0.01  # Small random weights\n",
    "    b2 = np.zeros((1, hidden_size))  # Bias for hidden layer 2\n",
    "\n",
    "    # Hidden Layer 2 to Output Layer\n",
    "    W3 = np.random.randn(hidden_size, output_size) * 0.01  # Small random weights\n",
    "    b3 = np.zeros((1, output_size))  # Bias for output layer\n",
    "\n",
    "    print(\"W1 shape:\", W1.shape, \"b1 shape:\", b1.shape)\n",
    "    print(\"W2 shape:\", W2.shape, \"b2 shape:\", b2.shape)\n",
    "    print(\"W3 shape:\", W3.shape, \"b3 shape:\", b3.shape) \n"
   ]
  },
  {
   "cell_type": "markdown",
   "metadata": {},
   "source": [
    "Activation Functions "
   ]
  },
  {
   "cell_type": "code",
   "execution_count": null,
   "metadata": {},
   "outputs": [
    {
     "name": "stdout",
     "output_type": "stream",
     "text": [
      "hola\n",
      "W1 shape: (784, 16) b1 shape: (1, 16)\n",
      "W2 shape: (16, 16) b2 shape: (1, 16)\n",
      "W3 shape: (16, 10) b3 shape: (1, 10)\n"
     ]
    }
   ],
   "source": [
    "#relu activation function\n",
    "def relu(x):\n",
    "    return np.maximum(0, x)\n",
    "\n",
    "# sigmoid activation function\n",
    "def sigmoid(x):\n",
    "    return 1 / (1 + np.exp(-x))\n",
    "\n",
    "#relu derivative\n",
    "def ReLU_derivative(x):\n",
    "    x = np.array(x)\n",
    "    return (x > 0).astype(int)\n",
    "\n",
    "#sigmoid derivative\n",
    "def sigmoid_derivative(x):\n",
    "    sigmoid_values = 1 / (1 + np.exp(-x))\n",
    "    return sigmoid_values * (1 - sigmoid_values)"
   ]
  },
  {
   "cell_type": "code",
   "execution_count": null,
   "metadata": {},
   "outputs": [],
   "source": []
  }
 ],
 "metadata": {
  "kernelspec": {
   "display_name": "computer_vision",
   "language": "python",
   "name": "python3"
  },
  "language_info": {
   "codemirror_mode": {
    "name": "ipython",
    "version": 3
   },
   "file_extension": ".py",
   "mimetype": "text/x-python",
   "name": "python",
   "nbconvert_exporter": "python",
   "pygments_lexer": "ipython3",
   "version": "3.8.20"
  }
 },
 "nbformat": 4,
 "nbformat_minor": 2
}
