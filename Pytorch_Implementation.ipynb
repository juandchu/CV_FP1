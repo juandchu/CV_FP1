{
 "cells": [
  {
   "cell_type": "code",
   "execution_count": 1,
   "id": "64440991",
   "metadata": {},
   "outputs": [
    {
     "name": "stderr",
     "output_type": "stream",
     "text": [
      "/opt/anaconda3/envs/computer_vision/lib/python3.8/site-packages/torchvision/io/image.py:14: UserWarning: Failed to load image Python extension: 'dlopen(/opt/anaconda3/envs/computer_vision/lib/python3.8/site-packages/torchvision/image.so, 0x0006): Library not loaded: @rpath/libjpeg.9.dylib\n",
      "  Referenced from: <CAF361F5-1CAC-3EBE-9FC4-4B823D275CAA> /opt/anaconda3/envs/computer_vision/lib/python3.8/site-packages/torchvision/image.so\n",
      "  Reason: tried: '/opt/anaconda3/envs/computer_vision/lib/python3.8/site-packages/torchvision/../../../libjpeg.9.dylib' (no such file), '/opt/anaconda3/envs/computer_vision/lib/python3.8/site-packages/torchvision/../../../libjpeg.9.dylib' (no such file), '/opt/anaconda3/envs/computer_vision/lib/python3.8/lib-dynload/../../libjpeg.9.dylib' (no such file), '/opt/anaconda3/envs/computer_vision/bin/../lib/libjpeg.9.dylib' (no such file)'If you don't plan on using image functionality from `torchvision.io`, you can ignore this warning. Otherwise, there might be something wrong with your environment. Did you have `libjpeg` or `libpng` installed before building `torchvision` from source?\n",
      "  warn(\n"
     ]
    }
   ],
   "source": [
    "# Importing dependencies\n",
    "import torch\n",
    "import os\n",
    "from torch import nn,save,load\n",
    "from torch.optim import Adam\n",
    "from torch.utils.data import DataLoader\n",
    "from torchvision import datasets, transforms"
   ]
  },
  {
   "cell_type": "code",
   "execution_count": 2,
   "id": "80bb050d",
   "metadata": {},
   "outputs": [],
   "source": [
    "# Loading Data\n",
    "transform = transforms.Compose([transforms.ToTensor()])\n",
    "train_dataset = datasets.MNIST(root=\"data\", download=True, train=True, transform=transform)\n",
    "train_loader = DataLoader(train_dataset, batch_size=32, shuffle=True)"
   ]
  },
  {
   "cell_type": "code",
   "execution_count": 3,
   "id": "96e84ecb",
   "metadata": {},
   "outputs": [],
   "source": [
    "# Define the image classifier model\n",
    "class ImageClassifier(nn.Module):\n",
    "    def __init__(self):\n",
    "        super(ImageClassifier, self).__init__()\n",
    "        self.conv_layers = nn.Sequential(\n",
    "            nn.Conv2d(in_channels=1, out_channels=32, kernel_size=3),\n",
    "            nn.ReLU(),\n",
    "            nn.Conv2d(in_channels=32, out_channels=64, kernel_size=3),\n",
    "            nn.ReLU(),\n",
    "            nn.Conv2d(in_channels=64, out_channels=64, kernel_size=3),\n",
    "            nn.ReLU()\n",
    "        )\n",
    "        self.fc_layers = nn.Sequential(\n",
    "            nn.Flatten(),\n",
    "            nn.Linear(64 * 22 * 22, 10)\n",
    "        )\n",
    "\n",
    "    def forward(self, x):\n",
    "        x = self.conv_layers(x)\n",
    "        x = self.fc_layers(x)\n",
    "        return x"
   ]
  },
  {
   "cell_type": "code",
   "execution_count": 4,
   "id": "2d90350c",
   "metadata": {},
   "outputs": [],
   "source": [
    "# Create an instance of the image classifier model\n",
    "device = torch.device(\"cpu\")\n",
    "classifier = ImageClassifier().to(device)"
   ]
  },
  {
   "cell_type": "code",
   "execution_count": 5,
   "id": "36ac1eff",
   "metadata": {},
   "outputs": [],
   "source": [
    "# Define the optimizer and loss function\n",
    "optimizer = torch.optim.Adam(classifier.parameters(), lr=1e-3, weight_decay=1e-5)\n",
    "loss_fn = nn.CrossEntropyLoss()"
   ]
  },
  {
   "cell_type": "code",
   "execution_count": 6,
   "id": "393b8d6e",
   "metadata": {},
   "outputs": [],
   "source": [
    "# Train the model\n",
    "train_model=False\n",
    "save_model=train_model\n",
    "\n",
    "if(train_model):\n",
    "    for epoch in range(20):  \n",
    "        for images, labels in train_loader:\n",
    "            images, labels = images.to(device), labels.to(device)\n",
    "            optimizer.zero_grad()  # Reset gradients\n",
    "            outputs = classifier(images)  # Forward pass\n",
    "            loss = loss_fn(outputs, labels)  # Compute loss\n",
    "            loss.backward()  # Backward pass\n",
    "            optimizer.step()  # Update weights\n",
    "\n",
    "    print(f\"Epoch:{epoch} loss is {loss.item()}\")\n",
    "    \n",
    "\n",
    "if(save_model):\n",
    "    # Create the directory if it doesn't exist\n",
    "    os.makedirs('model_torch_implementation', exist_ok=True)\n",
    "    # Save the trained model\n",
    "    torch.save(classifier.state_dict(), 'model_torch_implementation/model_state.pt')"
   ]
  },
  {
   "cell_type": "code",
   "execution_count": 8,
   "id": "915e933a",
   "metadata": {},
   "outputs": [
    {
     "name": "stderr",
     "output_type": "stream",
     "text": [
      "/var/folders/xg/v8q0cj8n7rl0hghy6cp497ph0000gn/T/ipykernel_3083/3105673039.py:12: FutureWarning: You are using `torch.load` with `weights_only=False` (the current default value), which uses the default pickle module implicitly. It is possible to construct malicious pickle data which will execute arbitrary code during unpickling (See https://github.com/pytorch/pytorch/blob/main/SECURITY.md#untrusted-models for more details). In a future release, the default value for `weights_only` will be flipped to `True`. This limits the functions that could be executed during unpickling. Arbitrary objects will no longer be allowed to be loaded via this mode unless they are explicitly allowlisted by the user via `torch.serialization.add_safe_globals`. We recommend you start setting `weights_only=True` for any use case where you don't have full control of the loaded file. Please open an issue on GitHub for any issues related to this experimental feature.\n",
      "  model.load_state_dict(torch.load('model_torch_implementation/model_state.pt'))\n"
     ]
    },
    {
     "name": "stdout",
     "output_type": "stream",
     "text": [
      "Test Accuracy: 98.67%\n"
     ]
    }
   ],
   "source": [
    "# Load the test dataset with the appropriate transformations\n",
    "transform = transforms.Compose([\n",
    "     transforms.ToTensor(),\n",
    "])\n",
    "\n",
    "#load test dataset\n",
    "test_dataset = datasets.MNIST(root='./data', train=False, transform=transform, download=True)\n",
    "test_loader = DataLoader(test_dataset, batch_size=128, shuffle=False)\n",
    "\n",
    "model = ImageClassifier()\n",
    "model.load_state_dict(torch.load('model_torch_implementation/model_state.pt'))\n",
    "model.eval()  # Set the model to evaluation mode\n",
    "\n",
    "correct = 0\n",
    "total = 0\n",
    "\n",
    "with torch.no_grad(): # Disable gradient tracking\n",
    "     for data, target in test_loader:\n",
    "          outputs = model(data)\n",
    "          _, predicted = torch.max(outputs, 1)  # Get the class with the highest score\n",
    "          total += target.size(0)\n",
    "          correct += (predicted == target).sum().item()\n",
    "\n",
    "accuracy = correct / total\n",
    "print(f'Test Accuracy: {accuracy * 100:.2f}%')"
   ]
  }
 ],
 "metadata": {
  "kernelspec": {
   "display_name": "computer_vision",
   "language": "python",
   "name": "python3"
  },
  "language_info": {
   "codemirror_mode": {
    "name": "ipython",
    "version": 3
   },
   "file_extension": ".py",
   "mimetype": "text/x-python",
   "name": "python",
   "nbconvert_exporter": "python",
   "pygments_lexer": "ipython3",
   "version": "3.8.20"
  }
 },
 "nbformat": 4,
 "nbformat_minor": 5
}
